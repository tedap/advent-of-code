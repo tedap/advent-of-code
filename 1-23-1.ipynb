{
 "cells": [
  {
   "cell_type": "code",
   "execution_count": 12,
   "metadata": {},
   "outputs": [],
   "source": [
    "import re"
   ]
  },
  {
   "cell_type": "code",
   "execution_count": null,
   "metadata": {},
   "outputs": [
    {
     "name": "stdout",
     "output_type": "stream",
     "text": [
      "54951\n"
     ]
    }
   ],
   "source": [
    "total = 0\n",
    "\n",
    "with open(\"1-23.txt\") as lines:\n",
    "    for line in lines:\n",
    "        parse_line = line.rstrip(\"\\n\")\n",
    "        no_line = re.sub(\"[^0-9]\", \"\", parse_line)\n",
    "\n",
    "        length = len(no_line)\n",
    "        sum = int(no_line[0] + no_line[length-1])\n",
    "        total += sum\n",
    "\n",
    "print(total)"
   ]
  }
 ],
 "metadata": {
  "kernelspec": {
   "display_name": "Python 3",
   "language": "python",
   "name": "python3"
  },
  "language_info": {
   "codemirror_mode": {
    "name": "ipython",
    "version": 3
   },
   "file_extension": ".py",
   "mimetype": "text/x-python",
   "name": "python",
   "nbconvert_exporter": "python",
   "pygments_lexer": "ipython3",
   "version": "3.10.2"
  }
 },
 "nbformat": 4,
 "nbformat_minor": 2
}
