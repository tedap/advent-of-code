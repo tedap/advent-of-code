{
 "cells": [
  {
   "cell_type": "code",
   "execution_count": 16,
   "metadata": {},
   "outputs": [],
   "source": [
    "def check_legal(list_a):\n",
    "    head = int(list_a[0])\n",
    "    count = 0\n",
    "    for i in range(1,len(list_a)):\n",
    "        next = int(list_a[i])\n",
    "        if (head > next) and (1 <= (head - next) <= 3):\n",
    "            count = count + 1\n",
    "        elif (head < next) and ((-1 >= (head - next) >= -3)):\n",
    "            count = count - 1\n",
    "        head = next\n",
    "    if (count == (len(list_a)-1)) or (count == (0 - (len(list_a) - 1))):\n",
    "        return True\n",
    "    else:\n",
    "        return False"
   ]
  },
  {
   "cell_type": "code",
   "execution_count": 71,
   "metadata": {},
   "outputs": [
    {
     "name": "stdout",
     "output_type": "stream",
     "text": [
      "379\n"
     ]
    }
   ],
   "source": [
    "counter = 0\n",
    "unsucc_list = []\n",
    "\n",
    "with open(\"2-24.txt\") as lines:\n",
    "    for line in lines:\n",
    "        parse_line = line.rstrip(\"\\n\")\n",
    "        list_of_no = parse_line.split(\" \")\n",
    "        \n",
    "        bool = check_legal(list_of_no)\n",
    "\n",
    "        if bool == False:\n",
    "            unsucc_list.append(list_of_no)\n",
    "        elif bool == True:\n",
    "            counter += 1\n",
    "print(counter)                "
   ]
  },
  {
   "cell_type": "code",
   "execution_count": 70,
   "metadata": {},
   "outputs": [
    {
     "name": "stdout",
     "output_type": "stream",
     "text": [
      "430\n"
     ]
    }
   ],
   "source": [
    "for list_b in unsucc_list:\n",
    "    length = len(list_b)\n",
    "    for i in range(0, length):\n",
    "        list_temp = list_b.copy()\n",
    "        del list_temp[i]\n",
    "        bool = check_legal(list_temp)\n",
    "        if bool == True:\n",
    "            counter += 1\n",
    "            break\n",
    "\n",
    "print(counter)"
   ]
  }
 ],
 "metadata": {
  "kernelspec": {
   "display_name": "base",
   "language": "python",
   "name": "python3"
  },
  "language_info": {
   "codemirror_mode": {
    "name": "ipython",
    "version": 3
   },
   "file_extension": ".py",
   "mimetype": "text/x-python",
   "name": "python",
   "nbconvert_exporter": "python",
   "pygments_lexer": "ipython3",
   "version": "3.12.7"
  }
 },
 "nbformat": 4,
 "nbformat_minor": 2
}
