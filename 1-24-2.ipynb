{
 "cells": [
  {
   "cell_type": "code",
   "execution_count": 17,
   "metadata": {},
   "outputs": [
    {
     "name": "stdout",
     "output_type": "stream",
     "text": [
      "1\n",
      "10028     1\n",
      "10043     1\n",
      "10112     1\n",
      "10162     1\n",
      "10314     1\n",
      "         ..\n",
      "99280     1\n",
      "99284    20\n",
      "99307     1\n",
      "99374     1\n",
      "99864     1\n",
      "Name: count, Length: 662, dtype: int64\n"
     ]
    }
   ],
   "source": [
    "import pandas as pd\n",
    "df = pd.read_csv('1-24.csv', header = None)\n",
    "list1 = df.loc[:, 0].sort_values()\n",
    "list2 = df.loc[:, 1].value_counts().sort_index()\n",
    "print(list2)"
   ]
  },
  {
   "cell_type": "code",
   "execution_count": 22,
   "metadata": {},
   "outputs": [
    {
     "name": "stdout",
     "output_type": "stream",
     "text": [
      "18567089\n"
     ]
    }
   ],
   "source": [
    "total = 0\n",
    "for item in list1:\n",
    "    try:\n",
    "        total += (list2[item] * item)\n",
    "    except:\n",
    "        continue\n",
    "\n",
    "print(total)"
   ]
  }
 ],
 "metadata": {
  "kernelspec": {
   "display_name": "Python 3",
   "language": "python",
   "name": "python3"
  },
  "language_info": {
   "codemirror_mode": {
    "name": "ipython",
    "version": 3
   },
   "file_extension": ".py",
   "mimetype": "text/x-python",
   "name": "python",
   "nbconvert_exporter": "python",
   "pygments_lexer": "ipython3",
   "version": "3.10.2"
  }
 },
 "nbformat": 4,
 "nbformat_minor": 2
}
